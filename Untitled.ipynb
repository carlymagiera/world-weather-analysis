{
 "cells": [
  {
   "cell_type": "code",
   "execution_count": 1,
   "id": "75ece0f7-5579-4ec1-a0a7-70ebffd6aeca",
   "metadata": {},
   "outputs": [
    {
     "name": "stdout",
     "output_type": "stream",
     "text": [
      "# conda environments:\n",
      "#\n",
      "base                  *  /opt/anaconda3/envs/PythonData\n",
      "\n",
      "# packages in environment at /opt/anaconda3/envs/PythonData:\n",
      "#\n",
      "# Name                    Version                   Build  Channel\n",
      "citipy                    0.0.5                    pypi_0    pypi\n"
     ]
    }
   ],
   "source": [
    "! conda env list && conda list citipy"
   ]
  },
  {
   "cell_type": "code",
   "execution_count": 2,
   "id": "66ab342d-25f1-4794-83a1-6ed8afb3fc74",
   "metadata": {},
   "outputs": [],
   "source": [
    "import citipy"
   ]
  },
  {
   "cell_type": "code",
   "execution_count": 3,
   "id": "678253d3-fdbc-4f80-b300-42a443d5e95b",
   "metadata": {},
   "outputs": [],
   "source": [
    "from citipy import citipy"
   ]
  },
  {
   "cell_type": "code",
   "execution_count": 4,
   "id": "95dcc5ea-cd5c-41f5-b1aa-64b7a77b4682",
   "metadata": {},
   "outputs": [
    {
     "data": {
      "text/plain": [
       "['City',\n",
       " 'WORLD_CITIES_DICT',\n",
       " '__builtins__',\n",
       " '__cached__',\n",
       " '__doc__',\n",
       " '__file__',\n",
       " '__loader__',\n",
       " '__name__',\n",
       " '__package__',\n",
       " '__spec__',\n",
       " '_current_dir',\n",
       " '_current_filename',\n",
       " '_world_cities_csv_path',\n",
       " '_world_cities_kdtree',\n",
       " 'c',\n",
       " 'cities',\n",
       " 'city',\n",
       " 'city_coordinate_key',\n",
       " 'csv',\n",
       " 'csv_file',\n",
       " 'kdtree',\n",
       " 'nearest_city',\n",
       " 'os']"
      ]
     },
     "execution_count": 4,
     "metadata": {},
     "output_type": "execute_result"
    }
   ],
   "source": [
    "dir(citipy)"
   ]
  },
  {
   "cell_type": "code",
   "execution_count": null,
   "id": "05bd5c47-55f7-41a8-8737-02bf4b4bb7ae",
   "metadata": {},
   "outputs": [],
   "source": []
  }
 ],
 "metadata": {
  "kernelspec": {
   "display_name": "Python 3 (ipykernel)",
   "language": "python",
   "name": "python3"
  },
  "language_info": {
   "codemirror_mode": {
    "name": "ipython",
    "version": 3
   },
   "file_extension": ".py",
   "mimetype": "text/x-python",
   "name": "python",
   "nbconvert_exporter": "python",
   "pygments_lexer": "ipython3",
   "version": "3.7.11"
  }
 },
 "nbformat": 4,
 "nbformat_minor": 5
}
