{
 "cells": [
  {
   "cell_type": "code",
   "execution_count": 1,
   "id": "0d441050",
   "metadata": {},
   "outputs": [],
   "source": [
    "# Create a practice set of random latitude and longitude combinations.\n",
    "x = [25.12903645, 25.92017388, 26.62509167, -59.98969384, 37.30571269]\n",
    "y = [-67.59741259, 11.09532135, 74.84233102, -76.89176677, -61.13376282]\n",
    "coordinates = list(zip(x, y))"
   ]
  },
  {
   "cell_type": "code",
   "execution_count": 2,
   "id": "f3854435",
   "metadata": {},
   "outputs": [
    {
     "name": "stdout",
     "output_type": "stream",
     "text": [
      "25.12903645 -67.59741259\n",
      "25.92017388 11.09532135\n",
      "26.62509167 74.84233102\n",
      "-59.98969384 -76.89176677\n",
      "37.30571269 -61.13376282\n"
     ]
    }
   ],
   "source": [
    "# Use the tuple() function to display the latitude and longitude combinations.\n",
    "for coordinate in coordinates:\n",
    "    print(coordinate[0], coordinate[1])"
   ]
  },
  {
   "cell_type": "code",
   "execution_count": 3,
   "id": "1bce44d6",
   "metadata": {
    "scrolled": false
   },
   "outputs": [],
   "source": [
    "# Use the citipy module to determine city based on latitude and longitude.\n",
    "from citipy import citipy"
   ]
  },
  {
   "cell_type": "code",
   "execution_count": 4,
   "id": "5b138ba6",
   "metadata": {},
   "outputs": [
    {
     "name": "stdout",
     "output_type": "stream",
     "text": [
      "/Users/carlymagiera/Desktop/DataClass/world_weather_analysis/world-weather-analysis\r\n",
      "total 104\r\n",
      " 0 drwxr-xr-x  13 carlymagiera  staff   416 Mar 12 12:16 \u001b[34m.\u001b[m\u001b[m/\r\n",
      " 0 drwxr-xr-x   4 carlymagiera  staff   128 Mar 10 13:34 \u001b[34m..\u001b[m\u001b[m/\r\n",
      "16 -rw-r--r--@  1 carlymagiera  staff  6148 Mar 10 14:10 .DS_Store\r\n",
      " 0 drwxr-xr-x  12 carlymagiera  staff   384 Mar 10 13:33 \u001b[34m.git\u001b[m\u001b[m/\r\n",
      " 8 -rw-r--r--   1 carlymagiera  staff  1833 Mar 10 13:33 .gitignore\r\n",
      " 0 drwxr-xr-x   8 carlymagiera  staff   256 Mar 11 16:51 \u001b[34m.ipynb_checkpoints\u001b[m\u001b[m/\r\n",
      "16 -rw-r--r--   1 carlymagiera  staff  5598 Mar 12 12:16 API_practice.ipynb\r\n",
      " 8 -rw-r--r--   1 carlymagiera  staff    24 Mar 10 13:33 README.md\r\n",
      " 8 -rw-r--r--   1 carlymagiera  staff  2611 Mar 11 22:56 Untitled.ipynb\r\n",
      "16 -rw-r--r--   1 carlymagiera  staff  5911 Mar 11 16:45 Untitled1.ipynb\r\n",
      " 8 -rw-r--r--   1 carlymagiera  staff  1257 Mar 11 16:53 Untitled2.ipynb\r\n",
      " 8 -rw-r--r--   1 carlymagiera  staff  1660 Mar 10 14:12 WeatherPy.ipynb\r\n",
      "16 -rw-r--r--   1 carlymagiera  staff  5557 Mar 10 14:12 random_numbers.ipynb\r\n"
     ]
    }
   ],
   "source": [
    "! pwd && ls -alsF"
   ]
  },
  {
   "cell_type": "code",
   "execution_count": 5,
   "id": "614d7a3f",
   "metadata": {},
   "outputs": [
    {
     "name": "stdout",
     "output_type": "stream",
     "text": [
      "# conda environments:\n",
      "#\n",
      "base                  *  /opt/anaconda3/envs/PythonData\n",
      "\n",
      "# packages in environment at /opt/anaconda3/envs/PythonData:\n",
      "#\n",
      "# Name                    Version                   Build  Channel\n",
      "citipy                    0.0.5                    pypi_0    pypi\n"
     ]
    }
   ],
   "source": [
    "! conda env list && conda list citipy"
   ]
  },
  {
   "cell_type": "code",
   "execution_count": 6,
   "id": "a590a8e5",
   "metadata": {},
   "outputs": [],
   "source": [
    "import citipy"
   ]
  },
  {
   "cell_type": "code",
   "execution_count": 7,
   "id": "28200ee1",
   "metadata": {},
   "outputs": [],
   "source": [
    "from citipy import citipy"
   ]
  },
  {
   "cell_type": "code",
   "execution_count": 8,
   "id": "25b8ad80",
   "metadata": {},
   "outputs": [
    {
     "name": "stdout",
     "output_type": "stream",
     "text": [
      "cockburn town tc\n",
      "gat ly\n",
      "parvatsar in\n",
      "punta arenas cl\n",
      "saint george bm\n"
     ]
    }
   ],
   "source": [
    "# Use the tuple() function to display the latitude and longitude combinations.\n",
    "for coordinate in coordinates:\n",
    "    print(citipy.nearest_city(coordinate[0], coordinate[1]).city_name,\n",
    "          citipy.nearest_city(coordinate[0], coordinate[1]).country_code)\n"
   ]
  },
  {
   "cell_type": "code",
   "execution_count": 10,
   "id": "2fba007d",
   "metadata": {},
   "outputs": [
    {
     "data": {
      "text/plain": [
       "5"
      ]
     },
     "execution_count": 10,
     "metadata": {},
     "output_type": "execute_result"
    }
   ],
   "source": [
    "# Create a list for holding the cities.\n",
    "cities = []\n",
    "# Identify the nearest city for each latitude and longitude combination.\n",
    "for coordinate in coordinates:\n",
    "    city = citipy.nearest_city(coordinate[0], coordinate[1]).city_name\n",
    "\n",
    "    # If the city is unique, then we will add it to the cities list.\n",
    "    if city not in cities:\n",
    "        cities.append(city)\n",
    "# Print the city count to confirm sufficient count.\n",
    "len(cities)"
   ]
  },
  {
   "cell_type": "code",
   "execution_count": null,
   "id": "d64669f1",
   "metadata": {},
   "outputs": [],
   "source": []
  }
 ],
 "metadata": {
  "kernelspec": {
   "display_name": "PythonData",
   "language": "python",
   "name": "pythondata"
  },
  "language_info": {
   "codemirror_mode": {
    "name": "ipython",
    "version": 3
   },
   "file_extension": ".py",
   "mimetype": "text/x-python",
   "name": "python",
   "nbconvert_exporter": "python",
   "pygments_lexer": "ipython3",
   "version": "3.9.7"
  }
 },
 "nbformat": 4,
 "nbformat_minor": 5
}
